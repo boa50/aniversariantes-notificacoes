{
 "cells": [
  {
   "cell_type": "code",
   "execution_count": 128,
   "metadata": {},
   "outputs": [],
   "source": [
    "import requests\n",
    "import json\n",
    "import io\n",
    "import os\n",
    "from datetime import date, datetime\n",
    "import pytz\n",
    "import configparser\n",
    "import time"
   ]
  },
  {
   "cell_type": "markdown",
   "metadata": {},
   "source": [
    "#### Obter o nome do arquivo dependendo de como está sendo executado\n",
    "Essa função auxilia a retornoar o *path* correto do arquivo independente se ele está sendo executado em um jupyter notebook ou pelo arquivo .py"
   ]
  },
  {
   "cell_type": "code",
   "execution_count": 129,
   "metadata": {},
   "outputs": [],
   "source": [
    "def get_local_filename(filename):\n",
    "    try:\n",
    "        return os.path.join(os.path.dirname(__file__), filename)\n",
    "    except:\n",
    "        return filename"
   ]
  },
  {
   "cell_type": "markdown",
   "metadata": {},
   "source": [
    "### Leitura de variáveis de ambiente"
   ]
  },
  {
   "cell_type": "code",
   "execution_count": 130,
   "metadata": {},
   "outputs": [
    {
     "data": {
      "text/plain": [
       "['config.ini']"
      ]
     },
     "execution_count": 130,
     "metadata": {},
     "output_type": "execute_result"
    }
   ],
   "source": [
    "config = configparser.ConfigParser()\n",
    "config.read(get_local_filename('config.ini'))"
   ]
  },
  {
   "cell_type": "code",
   "execution_count": 131,
   "metadata": {},
   "outputs": [],
   "source": [
    "PROJECT = config['VARS']['PROJECT']\n",
    "DB_API_KEY = config['VARS']['DB_API_KEY']\n",
    "DB_PASSWORD = config['VARS']['DB_PASSWORD']\n",
    "EMAIL = config['VARS']['EMAIL']\n",
    "SERVER_KEY = config['VARS']['SERVER_KEY']"
   ]
  },
  {
   "cell_type": "markdown",
   "metadata": {},
   "source": [
    "### Funções auxiliáres"
   ]
  },
  {
   "cell_type": "code",
   "execution_count": 132,
   "metadata": {},
   "outputs": [],
   "source": [
    "def get_dados(url, headers):\n",
    "    response = requests.get(url, headers=headers)\n",
    "    if response.status_code != 200:\n",
    "        print(response.text)\n",
    "        raise BaseException('GET /tasks/ {}'.format(response.status_code))\n",
    "        \n",
    "    try:\n",
    "        return response.json()['documents']\n",
    "    except:\n",
    "        return {}"
   ]
  },
  {
   "cell_type": "code",
   "execution_count": 133,
   "metadata": {},
   "outputs": [],
   "source": [
    "def get_id(document):\n",
    "    return document['name'].split('/')[-1]"
   ]
  },
  {
   "cell_type": "code",
   "execution_count": 134,
   "metadata": {},
   "outputs": [],
   "source": [
    "def get_ids(documents):\n",
    "    ids = []\n",
    "    \n",
    "    for document in documents:\n",
    "        identifier = get_id(document)\n",
    "        ids.append(identifier)\n",
    "        \n",
    "    return ids"
   ]
  },
  {
   "cell_type": "markdown",
   "metadata": {},
   "source": [
    "### Tratamento da autenticação"
   ]
  },
  {
   "cell_type": "code",
   "execution_count": 135,
   "metadata": {},
   "outputs": [],
   "source": [
    "authUrl = f'https://identitytoolkit.googleapis.com/v1/accounts:signInWithPassword?key={DB_API_KEY}'\n",
    "\n",
    "authData = {\n",
    "    'email': EMAIL,\n",
    "    'password': DB_PASSWORD,\n",
    "    'returnSecureToken': True,\n",
    "};\n",
    "\n",
    "resp = requests.post(authUrl, data=json.dumps(authData))\n",
    "if resp.status_code != 200:\n",
    "    raise BaseException('GET /tasks/ {}'.format(resp.status_code))\n",
    "    \n",
    "id_token = resp.json()['idToken']"
   ]
  },
  {
   "cell_type": "code",
   "execution_count": 136,
   "metadata": {},
   "outputs": [],
   "source": [
    "headers = {'Authorization': f'Bearer {id_token}'}"
   ]
  },
  {
   "cell_type": "code",
   "execution_count": 146,
   "metadata": {},
   "outputs": [],
   "source": [
    "url = f'https://firestore.googleapis.com/v1/projects/{PROJECT}/databases/(default)/documents/familias?pageSize=2000'\n",
    "\n",
    "familias = get_dados(url, headers)\n",
    "\n",
    "familias_dict = {get_id(familia): familia['fields']['nome']['stringValue'] for familia in familias}"
   ]
  },
  {
   "cell_type": "code",
   "execution_count": 152,
   "metadata": {},
   "outputs": [],
   "source": [
    "def envia_notificacao(texto, familia_nome, usuario_token):\n",
    "    url = 'https://fcm.googleapis.com/fcm/send'\n",
    "    headers = {\n",
    "        'Content-Type': 'application/json',\n",
    "        'Authorization': f'key={SERVER_KEY}'\n",
    "    }\n",
    "    payload = {\n",
    "          'to': usuario_token,\n",
    "          'notification': {\n",
    "                'title': f'Hoje tem aniversário na família {familia_nome} :)',\n",
    "                'body': texto\n",
    "          }\n",
    "    }\n",
    "    \n",
    "    resp = requests.post(url, data=json.dumps(payload), headers=headers)\n",
    "    if resp.status_code != 200:\n",
    "        raise BaseException('GET /tasks/ {}'.format(resp.status_code))\n",
    "        \n",
    "    return resp"
   ]
  },
  {
   "cell_type": "code",
   "execution_count": 139,
   "metadata": {},
   "outputs": [],
   "source": [
    "def get_usuario_token(notificado):\n",
    "    return notificado['fields']['tokenDestino']['stringValue']"
   ]
  },
  {
   "cell_type": "code",
   "execution_count": 140,
   "metadata": {},
   "outputs": [],
   "source": [
    "def get_aniversariantes_dia(familia_id):\n",
    "    aniversariantes_url = url.split('?')[0]\n",
    "    aniversariantes_url += f'/{familia_id}/aniversariantes?pageSize=2000'\n",
    "\n",
    "    aniversariantes = get_dados(aniversariantes_url, headers)\n",
    "   \n",
    "    data_atual = date.today().strftime(\"%m-%d\")\n",
    "\n",
    "    aniversariantes_dia = []\n",
    "    for aniversariante in aniversariantes:\n",
    "        nome = aniversariante['fields']['pessoa']['stringValue']\n",
    "        mes_dia = aniversariante['fields']['nascimento']['timestampValue'][5:10]\n",
    "\n",
    "        if mes_dia == data_atual:\n",
    "            aniversariantes_dia.append(nome)\n",
    "\n",
    "    return aniversariantes_dia"
   ]
  },
  {
   "cell_type": "code",
   "execution_count": 169,
   "metadata": {},
   "outputs": [],
   "source": [
    "def get_texto_aniversariantes(aniversariantes_dia):\n",
    "    texto = 'Hoje a festa é para'\n",
    "\n",
    "    for nome in aniversariantes_dia:\n",
    "        texto += f' {nome},'\n",
    "\n",
    "    if len(aniversariantes_dia) > 1:\n",
    "        last_virgula = texto[:-1].rindex(',')\n",
    "        return texto[:last_virgula] + ' e' + texto[last_virgula + 1:-1]\n",
    "    else:\n",
    "        return texto[:-1]"
   ]
  },
  {
   "cell_type": "code",
   "execution_count": 142,
   "metadata": {},
   "outputs": [],
   "source": [
    "def escreve_log(usuario_token, response):\n",
    "    log_texto = datetime.now(pytz.timezone(\"America/Sao_Paulo\")).strftime(\"%Y-%m-%d %H:%M:%S\")\n",
    "    \n",
    "    sucesso = json.loads(response.text)['success']\n",
    "\n",
    "    if sucesso == 1:\n",
    "        log_texto += '\\tSUCESSO\\t\\t'\n",
    "    else:\n",
    "        log_texto += '\\tERRO\\t\\t'\n",
    "\n",
    "    log_texto += f'{usuario_token}\\n'\n",
    "\n",
    "    with open(get_local_filename('notificacoes.log'), 'a+') as logfile:\n",
    "        logfile.write(log_texto)"
   ]
  },
  {
   "cell_type": "code",
   "execution_count": 170,
   "metadata": {},
   "outputs": [],
   "source": [
    "for familia_id, familia_nome in familias_dict.items():\n",
    "    familia_url = url.split('?')[0]\n",
    "    familia_url += f'/{familia_id}/notificados?pageSize=2000'\n",
    "    \n",
    "    aniversariantes_dia = get_aniversariantes_dia(familia_id)\n",
    "    \n",
    "    if len(aniversariantes_dia) > 0:\n",
    "    \n",
    "        notificados = get_dados(familia_url, headers)\n",
    "\n",
    "        for notificado in notificados:\n",
    "            identificador = get_id(notificado)\n",
    "            usuario_token = get_usuario_token(notificado)\n",
    "            texto = get_texto_aniversariantes(aniversariantes_dia)\n",
    "\n",
    "            response = envia_notificacao(texto, familia_nome, usuario_token)\n",
    "            \n",
    "            escreve_log(usuario_token, response)\n",
    "\n",
    "            time.sleep(5)"
   ]
  }
 ],
 "metadata": {
  "kernelspec": {
   "display_name": "Python 3",
   "language": "python",
   "name": "python3"
  },
  "language_info": {
   "codemirror_mode": {
    "name": "ipython",
    "version": 3
   },
   "file_extension": ".py",
   "mimetype": "text/x-python",
   "name": "python",
   "nbconvert_exporter": "python",
   "pygments_lexer": "ipython3",
   "version": "3.8.4"
  }
 },
 "nbformat": 4,
 "nbformat_minor": 4
}
